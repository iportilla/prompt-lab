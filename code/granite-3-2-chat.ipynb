{
 "cells": [
  {
   "cell_type": "code",
   "execution_count": 2,
   "metadata": {},
   "outputs": [
    {
     "name": "stdout",
     "output_type": "stream",
     "text": [
      "Collecting ibm-watson-machine-learning\n",
      "  Using cached ibm_watson_machine_learning-1.0.367-py3-none-any.whl.metadata (4.5 kB)\n",
      "Requirement already satisfied: requests in /opt/anaconda3/lib/python3.12/site-packages (from ibm-watson-machine-learning) (2.32.3)\n",
      "Requirement already satisfied: urllib3 in /opt/anaconda3/lib/python3.12/site-packages (from ibm-watson-machine-learning) (2.2.3)\n",
      "Collecting pandas<2.2.0,>=0.24.2 (from ibm-watson-machine-learning)\n",
      "  Using cached pandas-2.1.4-cp312-cp312-macosx_11_0_arm64.whl.metadata (18 kB)\n",
      "Requirement already satisfied: certifi in /opt/anaconda3/lib/python3.12/site-packages (from ibm-watson-machine-learning) (2024.12.14)\n",
      "Collecting lomond (from ibm-watson-machine-learning)\n",
      "  Using cached lomond-0.3.3-py2.py3-none-any.whl.metadata (4.1 kB)\n",
      "Requirement already satisfied: tabulate in /opt/anaconda3/lib/python3.12/site-packages (from ibm-watson-machine-learning) (0.9.0)\n",
      "Requirement already satisfied: packaging in /opt/anaconda3/lib/python3.12/site-packages (from ibm-watson-machine-learning) (24.1)\n",
      "Collecting ibm-cos-sdk<2.14.0,>=2.12.0 (from ibm-watson-machine-learning)\n",
      "  Using cached ibm_cos_sdk-2.13.6-py3-none-any.whl\n",
      "Requirement already satisfied: importlib-metadata in /opt/anaconda3/lib/python3.12/site-packages (from ibm-watson-machine-learning) (7.0.1)\n",
      "Collecting ibm-cos-sdk-core==2.13.6 (from ibm-cos-sdk<2.14.0,>=2.12.0->ibm-watson-machine-learning)\n",
      "  Using cached ibm_cos_sdk_core-2.13.6-py3-none-any.whl\n",
      "Collecting ibm-cos-sdk-s3transfer==2.13.6 (from ibm-cos-sdk<2.14.0,>=2.12.0->ibm-watson-machine-learning)\n",
      "  Using cached ibm_cos_sdk_s3transfer-2.13.6-py3-none-any.whl\n",
      "Requirement already satisfied: jmespath<=1.0.1,>=0.10.0 in /opt/anaconda3/lib/python3.12/site-packages (from ibm-cos-sdk<2.14.0,>=2.12.0->ibm-watson-machine-learning) (1.0.1)\n",
      "Requirement already satisfied: python-dateutil<3.0.0,>=2.9.0 in /opt/anaconda3/lib/python3.12/site-packages (from ibm-cos-sdk-core==2.13.6->ibm-cos-sdk<2.14.0,>=2.12.0->ibm-watson-machine-learning) (2.9.0.post0)\n",
      "Collecting requests (from ibm-watson-machine-learning)\n",
      "  Using cached requests-2.32.2-py3-none-any.whl.metadata (4.6 kB)\n",
      "Requirement already satisfied: numpy<2,>=1.26.0 in /opt/anaconda3/lib/python3.12/site-packages (from pandas<2.2.0,>=0.24.2->ibm-watson-machine-learning) (1.26.4)\n",
      "Requirement already satisfied: pytz>=2020.1 in /opt/anaconda3/lib/python3.12/site-packages (from pandas<2.2.0,>=0.24.2->ibm-watson-machine-learning) (2024.1)\n",
      "Requirement already satisfied: tzdata>=2022.1 in /opt/anaconda3/lib/python3.12/site-packages (from pandas<2.2.0,>=0.24.2->ibm-watson-machine-learning) (2023.3)\n",
      "Requirement already satisfied: charset-normalizer<4,>=2 in /opt/anaconda3/lib/python3.12/site-packages (from requests->ibm-watson-machine-learning) (3.3.2)\n",
      "Requirement already satisfied: idna<4,>=2.5 in /opt/anaconda3/lib/python3.12/site-packages (from requests->ibm-watson-machine-learning) (3.7)\n",
      "Requirement already satisfied: zipp>=0.5 in /opt/anaconda3/lib/python3.12/site-packages (from importlib-metadata->ibm-watson-machine-learning) (3.17.0)\n",
      "Requirement already satisfied: six>=1.10.0 in /opt/anaconda3/lib/python3.12/site-packages (from lomond->ibm-watson-machine-learning) (1.16.0)\n",
      "Using cached ibm_watson_machine_learning-1.0.367-py3-none-any.whl (1.3 MB)\n",
      "Using cached pandas-2.1.4-cp312-cp312-macosx_11_0_arm64.whl (10.6 MB)\n",
      "Using cached requests-2.32.2-py3-none-any.whl (63 kB)\n",
      "Using cached lomond-0.3.3-py2.py3-none-any.whl (35 kB)\n",
      "Installing collected packages: requests, lomond, pandas, ibm-cos-sdk-core, ibm-cos-sdk-s3transfer, ibm-cos-sdk, ibm-watson-machine-learning\n",
      "  Attempting uninstall: requests\n",
      "    Found existing installation: requests 2.32.3\n",
      "    Uninstalling requests-2.32.3:\n",
      "      Successfully uninstalled requests-2.32.3\n",
      "  Attempting uninstall: pandas\n",
      "    Found existing installation: pandas 2.2.2\n",
      "    Uninstalling pandas-2.2.2:\n",
      "      Successfully uninstalled pandas-2.2.2\n",
      "Successfully installed ibm-cos-sdk-2.13.6 ibm-cos-sdk-core-2.13.6 ibm-cos-sdk-s3transfer-2.13.6 ibm-watson-machine-learning-1.0.367 lomond-0.3.3 pandas-2.1.4 requests-2.32.2\n"
     ]
    }
   ],
   "source": [
    "!pip install ibm-watson-machine-learning"
   ]
  },
  {
   "cell_type": "code",
   "execution_count": 1,
   "metadata": {},
   "outputs": [
    {
     "name": "stdout",
     "output_type": "stream",
     "text": [
      "Requirement already satisfied: python-dotenv in /opt/anaconda3/lib/python3.12/site-packages (0.21.0)\n"
     ]
    }
   ],
   "source": [
    "!pip install python-dotenv"
   ]
  },
  {
   "cell_type": "code",
   "execution_count": null,
   "metadata": {},
   "outputs": [],
   "source": [
    "from ibm_watson_machine_learning.foundation_models import Model\n",
    "from ibm_watson_machine_learning.foundation_models.utils.enums import DecodingMethods\n"
   ]
  },
  {
   "cell_type": "code",
   "execution_count": 3,
   "metadata": {},
   "outputs": [
    {
     "name": "stdout",
     "output_type": "stream",
     "text": [
      "MODEL_ID: meta-llama/llama-3-3-70b-instruct\n"
     ]
    }
   ],
   "source": [
    "import os\n",
    "from dotenv import load_dotenv\n",
    "\n",
    "# Load environment variables from .env file\n",
    "load_dotenv()\n",
    "\n",
    "# Retrieve values\n",
    "API_KEY = os.getenv(\"API_KEY\")\n",
    "PROJECT_ID = os.getenv(\"PROJECT_ID\")\n",
    "MODEL_ID = os.getenv(\"MODEL_ID\")\n",
    "ENDPOINT_URL = os.getenv(\"ENDPOINT_URL\")\n",
    "SPACE_ID = os.getenv(\"SPACE_ID\")\n",
    "\n",
    "# Print values (for debugging; remove in production)\n",
    "# print(f\"API_KEY: {API_KEY}\")\n",
    "# print(f\"PROJECT_ID: {PROJECT_ID}\")\n",
    "print(f\"MODEL_ID: {MODEL_ID}\")\n",
    "# print(f\"ENDPOINT_URL: {ENDPOINT_URL}\")\n",
    "# print(f\"SPACE_ID: {SPACE_ID}\")"
   ]
  },
  {
   "cell_type": "code",
   "execution_count": 4,
   "metadata": {},
   "outputs": [],
   "source": [
    "\n",
    "# Initialize the Watsonx.ai model\n",
    "model = Model(\n",
    "    model_id=MODEL_ID,\n",
    "    params={\n",
    "        \"decoding_method\": DecodingMethods.GREEDY,\n",
    "        \"temperature\": 0.5,\n",
    "        \"max_tokens\": 150,\n",
    "        \"space_id\": SPACE_ID\n",
    "    },\n",
    "    credentials={\n",
    "        \"url\": ENDPOINT_URL,\n",
    "        \"apikey\": API_KEY\n",
    "    },\n",
    "    project_id=PROJECT_ID\n",
    ")"
   ]
  },
  {
   "cell_type": "code",
   "execution_count": 5,
   "metadata": {},
   "outputs": [],
   "source": [
    "# Define a function to generate AI responses\n",
    "import json\n",
    "\n",
    "def generate_response(prompt):\n",
    "    response = model.generate_text(prompt)\n",
    "    # print(f\"Raw response: {response}\")  # Debugging: print the raw response\n",
    "    try:\n",
    "        response_json = json.loads(response)  # Parse the response as JSON\n",
    "        return response_json['results'][0]['generated_text']\n",
    "    except json.JSONDecodeError:\n",
    "        # print(\"Failed to decode JSON. Returning raw response.\")\n",
    "        return response"
   ]
  },
  {
   "cell_type": "code",
   "execution_count": 6,
   "metadata": {},
   "outputs": [],
   "source": [
    "# Example banking customer support queries\n",
    "queries = [\n",
    "    \"How can I reset my online banking password?\",\n",
    "    \"What are the interest rates for a savings account?\",\n",
    "    \"How do I report a lost credit card?\",\n",
    "    \"Can I apply for a mortgage online?\"\n",
    "]"
   ]
  },
  {
   "cell_type": "code",
   "execution_count": 7,
   "metadata": {},
   "outputs": [
    {
     "name": "stdout",
     "output_type": "stream",
     "text": [
      "User: How can I reset my online banking password?\n",
      "AI:  You can reset your online banking password by following these steps: 1. Go to our website and\n",
      "\n",
      "User: What are the interest rates for a savings account?\n",
      "AI:  The interest rates for a savings account vary depending on the type of account and the bank or financial institution\n",
      "\n",
      "User: How do I report a lost credit card?\n",
      "AI:  \n",
      "If you lose your credit card, report it to your credit card issuer immediately. You can usually\n",
      "\n",
      "User: Can I apply for a mortgage online?\n",
      "AI:  Yes, you can apply for a mortgage online, but you should be prepared to provide various financial documents\n",
      "\n"
     ]
    }
   ],
   "source": [
    "# Example usage\n",
    "for query in queries:\n",
    "    print(f\"User: {query}\")\n",
    "    ai_response = generate_response(query)\n",
    "    print(f\"AI: {ai_response}\\n\")"
   ]
  },
  {
   "cell_type": "code",
   "execution_count": null,
   "metadata": {},
   "outputs": [],
   "source": [
    "## TODO: write a pizzeria bot\n",
    "\n",
    "#write a pizzeria bot queries\n",
    "queries = [\n",
    "    \"can I order a pizza?\",\n",
    "    #....\n",
    "]"
   ]
  },
  {
   "cell_type": "code",
   "execution_count": null,
   "metadata": {},
   "outputs": [],
   "source": [
    "\n",
    "\n",
    "\n",
    "\n",
    "\n",
    "\n",
    "\n",
    "\n",
    "\n",
    "\n"
   ]
  },
  {
   "cell_type": "code",
   "execution_count": null,
   "metadata": {},
   "outputs": [],
   "source": []
  },
  {
   "cell_type": "code",
   "execution_count": null,
   "metadata": {},
   "outputs": [],
   "source": []
  },
  {
   "cell_type": "code",
   "execution_count": null,
   "metadata": {},
   "outputs": [],
   "source": []
  },
  {
   "cell_type": "markdown",
   "metadata": {},
   "source": [
    "User: How can I reset my online banking password?\n",
    "AI: You can reset your online banking password by selecting 'Forgot Password' on the login page and following the instructions.\n",
    "\n",
    "User: What are the interest rates for a savings account?\n",
    "AI: The interest rates vary based on the account type. Please check our website or contact customer service for details.\n",
    "\n",
    "User: How do I report a lost credit card?\n",
    "AI: To report a lost or stolen credit card, call our 24/7 support line at 1-800-XXX-XXXX immediately.\n",
    "\n",
    "User: Can I apply for a mortgage online?\n",
    "AI: Yes! You can apply for a mortgage online through our website by filling out the application form and submitting the required documents."
   ]
  },
  {
   "cell_type": "markdown",
   "metadata": {},
   "source": []
  }
 ],
 "metadata": {
  "kernelspec": {
   "display_name": "base",
   "language": "python",
   "name": "python3"
  },
  "language_info": {
   "codemirror_mode": {
    "name": "ipython",
    "version": 3
   },
   "file_extension": ".py",
   "mimetype": "text/x-python",
   "name": "python",
   "nbconvert_exporter": "python",
   "pygments_lexer": "ipython3",
   "version": "3.12.7"
  }
 },
 "nbformat": 4,
 "nbformat_minor": 2
}
